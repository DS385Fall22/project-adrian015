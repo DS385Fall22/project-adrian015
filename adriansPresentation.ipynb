{
 "cells": [
  {
   "cell_type": "markdown",
   "id": "1a913786-5fd4-40f0-b34f-b17d58bb8b1d",
   "metadata": {},
   "source": [
    "# Using public REST APIs to gather data"
   ]
  },
  {
   "cell_type": "markdown",
   "id": "032ecaab-925b-4012-b185-7e42da58ade6",
   "metadata": {},
   "source": [
    "## Recap / introduction to REST APIs\n",
    "\n"
   ]
  },
  {
   "cell_type": "markdown",
   "id": "e90436ab-66b3-4ec3-a7df-3cadbd03d864",
   "metadata": {},
   "source": [
    "* API - Application programming interface, or a way to interact with a specific program\n",
    "\n",
    "* REST - stands for representational state transfer architectural style, this is a set of contraints rather than a standard\n",
    "\n",
    "With REST APIs there are four main ways of interacting with them\n",
    "\n",
    "* GET - gets a record\n",
    "\n",
    "* POST - creates a record\n",
    "\n",
    "* PUT - updates a record\n",
    "\n",
    "* DELETE - deletes a record\n",
    "\n",
    "This follows the CRUD style of database management and is performed via HTTP request"
   ]
  },
  {
   "cell_type": "code",
   "execution_count": 1,
   "id": "be334573-aa5e-4fa8-ab55-b4bc67c9c24b",
   "metadata": {},
   "outputs": [],
   "source": [
    "import requests\n",
    "import pandas as pd"
   ]
  },
  {
   "cell_type": "code",
   "execution_count": 2,
   "id": "fb1dd7bf-2a2f-474e-8bc5-6d62c9d51c52",
   "metadata": {},
   "outputs": [],
   "source": [
    "reqresURL = 'https://reqres.in/api/users/'\n",
    "query = {'page' : '1'}\n",
    "response = requests.get(reqresURL, query)\n"
   ]
  },
  {
   "cell_type": "code",
   "execution_count": 3,
   "id": "b6922b8b-bf9a-47b1-8483-858beb1003a1",
   "metadata": {},
   "outputs": [
    {
     "data": {
      "text/html": [
       "<div>\n",
       "<style scoped>\n",
       "    .dataframe tbody tr th:only-of-type {\n",
       "        vertical-align: middle;\n",
       "    }\n",
       "\n",
       "    .dataframe tbody tr th {\n",
       "        vertical-align: top;\n",
       "    }\n",
       "\n",
       "    .dataframe thead th {\n",
       "        text-align: right;\n",
       "    }\n",
       "</style>\n",
       "<table border=\"1\" class=\"dataframe\">\n",
       "  <thead>\n",
       "    <tr style=\"text-align: right;\">\n",
       "      <th></th>\n",
       "      <th>page</th>\n",
       "      <th>per_page</th>\n",
       "      <th>total</th>\n",
       "      <th>total_pages</th>\n",
       "      <th>data</th>\n",
       "      <th>support.url</th>\n",
       "      <th>support.text</th>\n",
       "    </tr>\n",
       "  </thead>\n",
       "  <tbody>\n",
       "    <tr>\n",
       "      <th>0</th>\n",
       "      <td>1</td>\n",
       "      <td>6</td>\n",
       "      <td>12</td>\n",
       "      <td>2</td>\n",
       "      <td>[{'id': 1, 'email': 'george.bluth@reqres.in', ...</td>\n",
       "      <td>https://reqres.in/#support-heading</td>\n",
       "      <td>To keep ReqRes free, contributions towards ser...</td>\n",
       "    </tr>\n",
       "  </tbody>\n",
       "</table>\n",
       "</div>"
      ],
      "text/plain": [
       "   page  per_page  total  total_pages  \\\n",
       "0     1         6     12            2   \n",
       "\n",
       "                                                data  \\\n",
       "0  [{'id': 1, 'email': 'george.bluth@reqres.in', ...   \n",
       "\n",
       "                          support.url  \\\n",
       "0  https://reqres.in/#support-heading   \n",
       "\n",
       "                                        support.text  \n",
       "0  To keep ReqRes free, contributions towards ser...  "
      ]
     },
     "execution_count": 3,
     "metadata": {},
     "output_type": "execute_result"
    }
   ],
   "source": [
    "df = pd.json_normalize(response.json())\n",
    "df.head()"
   ]
  },
  {
   "cell_type": "code",
   "execution_count": 4,
   "id": "5bccdedd-ad75-4b1d-8203-891a52b8b3bc",
   "metadata": {},
   "outputs": [],
   "source": [
    "dfa = pd.json_normalize(df['data'][0])"
   ]
  },
  {
   "cell_type": "code",
   "execution_count": 5,
   "id": "f270c2fe-5af0-46f6-b02b-c528d571144b",
   "metadata": {},
   "outputs": [
    {
     "data": {
      "text/html": [
       "<div>\n",
       "<style scoped>\n",
       "    .dataframe tbody tr th:only-of-type {\n",
       "        vertical-align: middle;\n",
       "    }\n",
       "\n",
       "    .dataframe tbody tr th {\n",
       "        vertical-align: top;\n",
       "    }\n",
       "\n",
       "    .dataframe thead th {\n",
       "        text-align: right;\n",
       "    }\n",
       "</style>\n",
       "<table border=\"1\" class=\"dataframe\">\n",
       "  <thead>\n",
       "    <tr style=\"text-align: right;\">\n",
       "      <th></th>\n",
       "      <th>id</th>\n",
       "      <th>email</th>\n",
       "      <th>first_name</th>\n",
       "      <th>last_name</th>\n",
       "      <th>avatar</th>\n",
       "    </tr>\n",
       "  </thead>\n",
       "  <tbody>\n",
       "    <tr>\n",
       "      <th>0</th>\n",
       "      <td>1</td>\n",
       "      <td>george.bluth@reqres.in</td>\n",
       "      <td>George</td>\n",
       "      <td>Bluth</td>\n",
       "      <td>https://reqres.in/img/faces/1-image.jpg</td>\n",
       "    </tr>\n",
       "    <tr>\n",
       "      <th>1</th>\n",
       "      <td>2</td>\n",
       "      <td>janet.weaver@reqres.in</td>\n",
       "      <td>Janet</td>\n",
       "      <td>Weaver</td>\n",
       "      <td>https://reqres.in/img/faces/2-image.jpg</td>\n",
       "    </tr>\n",
       "    <tr>\n",
       "      <th>2</th>\n",
       "      <td>3</td>\n",
       "      <td>emma.wong@reqres.in</td>\n",
       "      <td>Emma</td>\n",
       "      <td>Wong</td>\n",
       "      <td>https://reqres.in/img/faces/3-image.jpg</td>\n",
       "    </tr>\n",
       "    <tr>\n",
       "      <th>3</th>\n",
       "      <td>4</td>\n",
       "      <td>eve.holt@reqres.in</td>\n",
       "      <td>Eve</td>\n",
       "      <td>Holt</td>\n",
       "      <td>https://reqres.in/img/faces/4-image.jpg</td>\n",
       "    </tr>\n",
       "    <tr>\n",
       "      <th>4</th>\n",
       "      <td>5</td>\n",
       "      <td>charles.morris@reqres.in</td>\n",
       "      <td>Charles</td>\n",
       "      <td>Morris</td>\n",
       "      <td>https://reqres.in/img/faces/5-image.jpg</td>\n",
       "    </tr>\n",
       "  </tbody>\n",
       "</table>\n",
       "</div>"
      ],
      "text/plain": [
       "   id                     email first_name last_name  \\\n",
       "0   1    george.bluth@reqres.in     George     Bluth   \n",
       "1   2    janet.weaver@reqres.in      Janet    Weaver   \n",
       "2   3       emma.wong@reqres.in       Emma      Wong   \n",
       "3   4        eve.holt@reqres.in        Eve      Holt   \n",
       "4   5  charles.morris@reqres.in    Charles    Morris   \n",
       "\n",
       "                                    avatar  \n",
       "0  https://reqres.in/img/faces/1-image.jpg  \n",
       "1  https://reqres.in/img/faces/2-image.jpg  \n",
       "2  https://reqres.in/img/faces/3-image.jpg  \n",
       "3  https://reqres.in/img/faces/4-image.jpg  \n",
       "4  https://reqres.in/img/faces/5-image.jpg  "
      ]
     },
     "execution_count": 5,
     "metadata": {},
     "output_type": "execute_result"
    }
   ],
   "source": [
    "dfa.head()"
   ]
  },
  {
   "cell_type": "code",
   "execution_count": 6,
   "id": "3e2386a8-0ffc-4021-b32d-92f1e5a4ec42",
   "metadata": {},
   "outputs": [],
   "source": [
    "createQuery = {'name' : 'John',\n",
    "               'job' : 'Leader'}\n",
    "response = requests.post(reqresURL, data = createQuery)"
   ]
  },
  {
   "cell_type": "code",
   "execution_count": 7,
   "id": "33aa656d-0fae-40fc-8133-7dcfd0383959",
   "metadata": {},
   "outputs": [
    {
     "data": {
      "text/html": [
       "<div>\n",
       "<style scoped>\n",
       "    .dataframe tbody tr th:only-of-type {\n",
       "        vertical-align: middle;\n",
       "    }\n",
       "\n",
       "    .dataframe tbody tr th {\n",
       "        vertical-align: top;\n",
       "    }\n",
       "\n",
       "    .dataframe thead th {\n",
       "        text-align: right;\n",
       "    }\n",
       "</style>\n",
       "<table border=\"1\" class=\"dataframe\">\n",
       "  <thead>\n",
       "    <tr style=\"text-align: right;\">\n",
       "      <th></th>\n",
       "      <th>name</th>\n",
       "      <th>job</th>\n",
       "      <th>id</th>\n",
       "      <th>createdAt</th>\n",
       "    </tr>\n",
       "  </thead>\n",
       "  <tbody>\n",
       "    <tr>\n",
       "      <th>0</th>\n",
       "      <td>John</td>\n",
       "      <td>Leader</td>\n",
       "      <td>583</td>\n",
       "      <td>2022-12-06T05:59:47.117Z</td>\n",
       "    </tr>\n",
       "  </tbody>\n",
       "</table>\n",
       "</div>"
      ],
      "text/plain": [
       "   name     job   id                 createdAt\n",
       "0  John  Leader  583  2022-12-06T05:59:47.117Z"
      ]
     },
     "execution_count": 7,
     "metadata": {},
     "output_type": "execute_result"
    }
   ],
   "source": [
    "dfb = pd.json_normalize(response.json())\n",
    "dfb.head()"
   ]
  },
  {
   "cell_type": "code",
   "execution_count": 8,
   "id": "e4f4e4df-717c-4aaf-b1cd-38d5072f6332",
   "metadata": {},
   "outputs": [],
   "source": [
    "updateQuery = {'name' : 'John',\n",
    "               'job' : 'Follower'}\n",
    "response = requests.patch(reqresURL, updateQuery)"
   ]
  },
  {
   "cell_type": "code",
   "execution_count": 9,
   "id": "83b5f961-1ede-4113-8623-664d2678a2ec",
   "metadata": {},
   "outputs": [
    {
     "data": {
      "text/html": [
       "<div>\n",
       "<style scoped>\n",
       "    .dataframe tbody tr th:only-of-type {\n",
       "        vertical-align: middle;\n",
       "    }\n",
       "\n",
       "    .dataframe tbody tr th {\n",
       "        vertical-align: top;\n",
       "    }\n",
       "\n",
       "    .dataframe thead th {\n",
       "        text-align: right;\n",
       "    }\n",
       "</style>\n",
       "<table border=\"1\" class=\"dataframe\">\n",
       "  <thead>\n",
       "    <tr style=\"text-align: right;\">\n",
       "      <th></th>\n",
       "      <th>name</th>\n",
       "      <th>job</th>\n",
       "      <th>updatedAt</th>\n",
       "    </tr>\n",
       "  </thead>\n",
       "  <tbody>\n",
       "    <tr>\n",
       "      <th>0</th>\n",
       "      <td>John</td>\n",
       "      <td>Follower</td>\n",
       "      <td>2022-12-06T05:59:48.751Z</td>\n",
       "    </tr>\n",
       "  </tbody>\n",
       "</table>\n",
       "</div>"
      ],
      "text/plain": [
       "   name       job                 updatedAt\n",
       "0  John  Follower  2022-12-06T05:59:48.751Z"
      ]
     },
     "execution_count": 9,
     "metadata": {},
     "output_type": "execute_result"
    }
   ],
   "source": [
    "dfc = pd.json_normalize(response.json())\n",
    "dfc.head()"
   ]
  },
  {
   "cell_type": "markdown",
   "id": "b915d52a-fb81-46a5-b132-ad0a8cc73a45",
   "metadata": {},
   "source": [
    "# Getting data from Spotify"
   ]
  },
  {
   "cell_type": "markdown",
   "id": "74cf7509-35a6-4931-a850-d6fedfa9437f",
   "metadata": {
    "tags": []
   },
   "source": [
    "\n",
    "## Why Spotify?\n",
    "\n",
    "Spotify's API is easy to use and has a ton of documentation on it\n",
    "\n",
    "## Getting authentication token\n",
    "1. Go to https://developer.spotify.com/dashboard/ and create a new app\n",
    "2. Copy the Client ID and Secret\n",
    "3. Create a file named .env\n",
    "4. Paste the ID and Secret in the following format in the .env with qutation\n",
    "~~~\n",
    "CLIENT_ID = \"ID\"\n",
    "\n",
    "CLIENT_SECRET = \"Secret\"\n",
    "~~~"
   ]
  },
  {
   "cell_type": "markdown",
   "id": "b664cf68-c0dd-4d10-88d9-f6d98e9b2da3",
   "metadata": {},
   "source": [
    "## Why a .env file?\n",
    "\n",
    "Generally considered bad practice and insecure to have client secret hard coded in"
   ]
  },
  {
   "cell_type": "code",
   "execution_count": 10,
   "id": "808c829b-b2a8-4a48-bea5-acf7a0cc5b52",
   "metadata": {},
   "outputs": [],
   "source": [
    "from dotenv import load_dotenv\n",
    "import os"
   ]
  },
  {
   "cell_type": "code",
   "execution_count": 11,
   "id": "bfc1b54f-d1c1-4d49-90ae-e08ab58b5463",
   "metadata": {},
   "outputs": [],
   "source": [
    "load_dotenv()\n",
    "CLIENT_ID = os.environ.get('CLIENT_ID')\n",
    "CLIENT_SECRET = os.environ.get('CLIENT_SECRET')"
   ]
  },
  {
   "cell_type": "markdown",
   "id": "2e179dc8-c966-4d31-a971-3ef4850fc6ce",
   "metadata": {},
   "source": [
    "After loading in the app credentials, create a header file which will be used to get the access token"
   ]
  },
  {
   "cell_type": "code",
   "execution_count": 12,
   "id": "4bcd103b-3836-41c1-87f6-de931dd8bb30",
   "metadata": {},
   "outputs": [],
   "source": [
    "spotifyAuth = 'https://accounts.spotify.com/api/token'\n",
    "authQuery = {'grant_type' : 'client_credentials',\n",
    "             'client_id' : CLIENT_ID,\n",
    "             'client_secret' : CLIENT_SECRET}\n",
    "\n",
    "authResponse = requests.post(spotifyAuth, authQuery)\n",
    "             "
   ]
  },
  {
   "cell_type": "markdown",
   "id": "ae163b6a-02b6-48d6-a651-95ceab8a2c1f",
   "metadata": {},
   "source": [
    "Access token is inside of the json response"
   ]
  },
  {
   "cell_type": "code",
   "execution_count": 13,
   "id": "552763fc-2315-4343-9284-b2a7b252b067",
   "metadata": {},
   "outputs": [],
   "source": [
    "authResponseData = authResponse.json()\n",
    "accessToken = authResponseData['access_token']"
   ]
  },
  {
   "cell_type": "code",
   "execution_count": 14,
   "id": "99e0b0d8-05a1-41dd-82f4-20da0444bf6b",
   "metadata": {},
   "outputs": [],
   "source": [
    "headers = { 'Authorization': 'Bearer {token}'.format(token=accessToken)}"
   ]
  },
  {
   "cell_type": "code",
   "execution_count": 15,
   "id": "a3e36ef6-3e5c-4d1e-9926-3f7834eb2e48",
   "metadata": {},
   "outputs": [],
   "source": [
    "spotifyAPI = 'https://api.spotify.com/v1/'"
   ]
  },
  {
   "cell_type": "markdown",
   "id": "9a9e0e82-37c3-468e-88c2-3f4ba58ca426",
   "metadata": {},
   "source": [
    "# Using Spotify to get top tracks from an artist\n",
    "\n",
    "Artist ids are ripped from the Spotify artist page url"
   ]
  },
  {
   "cell_type": "code",
   "execution_count": 16,
   "id": "d6f4292d-e5f6-4328-998e-4ee629722a11",
   "metadata": {},
   "outputs": [],
   "source": [
    "porterRobinsonID = '3dz0NnIZhtKKeXZxLOxCam'\n",
    "kendrickLamarID = '2YZyLoL8N0Wb9xBt1NhZWg'\n",
    "frankOceanID = '2h93pZq0e7k5yf4dywlkpM'"
   ]
  },
  {
   "cell_type": "markdown",
   "id": "47a84d3f-bdc1-471e-b25f-79ee5dad3a84",
   "metadata": {},
   "source": [
    "Query for top tracks is as follow\n",
    "\n",
    "`artists/*ID*/top-tracks?market=*2 Letter Country Code*`"
   ]
  },
  {
   "cell_type": "code",
   "execution_count": 17,
   "id": "69d5a8e7-8271-4551-94e6-431e1741d255",
   "metadata": {},
   "outputs": [],
   "source": [
    "porterResponse = requests.get(spotifyAPI + 'artists/' + porterRobinsonID + '/top-tracks?market=US', headers=headers)\n",
    "kendrickResponse = requests.get(spotifyAPI + 'artists/' + kendrickLamarID + '/top-tracks?market=US', headers=headers)\n",
    "frankResponse = requests.get(spotifyAPI + 'artists/' + frankOceanID + '/top-tracks?market=US', headers=headers)"
   ]
  },
  {
   "cell_type": "code",
   "execution_count": 18,
   "id": "db331cb6-fe5b-4818-b215-e46c540a991e",
   "metadata": {},
   "outputs": [],
   "source": [
    "porterData = porterResponse.json()\n",
    "kendrickData = kendrickResponse.json()\n",
    "frankData = frankResponse.json()"
   ]
  },
  {
   "cell_type": "code",
   "execution_count": 19,
   "id": "a36a8f97-98fa-44df-8c55-2734378fad8e",
   "metadata": {},
   "outputs": [],
   "source": [
    "def printTopTracks(tracks):\n",
    "    df = pd.json_normalize(tracks)\n",
    "    return df.loc[:,['name', 'album.name', 'album.release_date']].head()"
   ]
  },
  {
   "cell_type": "code",
   "execution_count": 20,
   "id": "4d5fb3f6-35d3-43cc-a57d-1184687452c6",
   "metadata": {},
   "outputs": [
    {
     "name": "stdout",
     "output_type": "stream",
     "text": [
      "Porter Robinson's top tracks\n"
     ]
    },
    {
     "data": {
      "text/html": [
       "<div>\n",
       "<style scoped>\n",
       "    .dataframe tbody tr th:only-of-type {\n",
       "        vertical-align: middle;\n",
       "    }\n",
       "\n",
       "    .dataframe tbody tr th {\n",
       "        vertical-align: top;\n",
       "    }\n",
       "\n",
       "    .dataframe thead th {\n",
       "        text-align: right;\n",
       "    }\n",
       "</style>\n",
       "<table border=\"1\" class=\"dataframe\">\n",
       "  <thead>\n",
       "    <tr style=\"text-align: right;\">\n",
       "      <th></th>\n",
       "      <th>name</th>\n",
       "      <th>album.name</th>\n",
       "      <th>album.release_date</th>\n",
       "    </tr>\n",
       "  </thead>\n",
       "  <tbody>\n",
       "    <tr>\n",
       "      <th>0</th>\n",
       "      <td>Everything Goes On</td>\n",
       "      <td>Everything Goes On</td>\n",
       "      <td>2022-07-14</td>\n",
       "    </tr>\n",
       "    <tr>\n",
       "      <th>1</th>\n",
       "      <td>Shelter</td>\n",
       "      <td>Shelter</td>\n",
       "      <td>2016-08-12</td>\n",
       "    </tr>\n",
       "    <tr>\n",
       "      <th>2</th>\n",
       "      <td>Goodbye To A World</td>\n",
       "      <td>Worlds</td>\n",
       "      <td>2014-08-12</td>\n",
       "    </tr>\n",
       "    <tr>\n",
       "      <th>3</th>\n",
       "      <td>Sad Machine</td>\n",
       "      <td>Worlds</td>\n",
       "      <td>2014-08-12</td>\n",
       "    </tr>\n",
       "    <tr>\n",
       "      <th>4</th>\n",
       "      <td>Look at the Sky</td>\n",
       "      <td>Nurture</td>\n",
       "      <td>2021-04-23</td>\n",
       "    </tr>\n",
       "  </tbody>\n",
       "</table>\n",
       "</div>"
      ],
      "text/plain": [
       "                 name          album.name album.release_date\n",
       "0  Everything Goes On  Everything Goes On         2022-07-14\n",
       "1             Shelter             Shelter         2016-08-12\n",
       "2  Goodbye To A World              Worlds         2014-08-12\n",
       "3         Sad Machine              Worlds         2014-08-12\n",
       "4     Look at the Sky             Nurture         2021-04-23"
      ]
     },
     "execution_count": 20,
     "metadata": {},
     "output_type": "execute_result"
    }
   ],
   "source": [
    "print('Porter Robinson\\'s top tracks')\n",
    "printTopTracks(porterData['tracks'])"
   ]
  },
  {
   "cell_type": "code",
   "execution_count": 21,
   "id": "f797e24b-4acd-4e10-94cf-b0f52434dcfc",
   "metadata": {},
   "outputs": [
    {
     "name": "stdout",
     "output_type": "stream",
     "text": [
      "Kendrick Lamar's top tracks\n"
     ]
    },
    {
     "data": {
      "text/html": [
       "<div>\n",
       "<style scoped>\n",
       "    .dataframe tbody tr th:only-of-type {\n",
       "        vertical-align: middle;\n",
       "    }\n",
       "\n",
       "    .dataframe tbody tr th {\n",
       "        vertical-align: top;\n",
       "    }\n",
       "\n",
       "    .dataframe thead th {\n",
       "        text-align: right;\n",
       "    }\n",
       "</style>\n",
       "<table border=\"1\" class=\"dataframe\">\n",
       "  <thead>\n",
       "    <tr style=\"text-align: right;\">\n",
       "      <th></th>\n",
       "      <th>name</th>\n",
       "      <th>album.name</th>\n",
       "      <th>album.release_date</th>\n",
       "    </tr>\n",
       "  </thead>\n",
       "  <tbody>\n",
       "    <tr>\n",
       "      <th>0</th>\n",
       "      <td>All The Stars (with SZA)</td>\n",
       "      <td>Black Panther The Album Music From And Inspire...</td>\n",
       "      <td>2018-02-09</td>\n",
       "    </tr>\n",
       "    <tr>\n",
       "      <th>1</th>\n",
       "      <td>HUMBLE.</td>\n",
       "      <td>DAMN.</td>\n",
       "      <td>2017-04-14</td>\n",
       "    </tr>\n",
       "    <tr>\n",
       "      <th>2</th>\n",
       "      <td>LOVE. FEAT. ZACARI.</td>\n",
       "      <td>DAMN.</td>\n",
       "      <td>2017-04-14</td>\n",
       "    </tr>\n",
       "    <tr>\n",
       "      <th>3</th>\n",
       "      <td>N95</td>\n",
       "      <td>Mr. Morale &amp; The Big Steppers</td>\n",
       "      <td>2022-05-13</td>\n",
       "    </tr>\n",
       "    <tr>\n",
       "      <th>4</th>\n",
       "      <td>PRIDE.</td>\n",
       "      <td>DAMN.</td>\n",
       "      <td>2017-04-14</td>\n",
       "    </tr>\n",
       "  </tbody>\n",
       "</table>\n",
       "</div>"
      ],
      "text/plain": [
       "                       name  \\\n",
       "0  All The Stars (with SZA)   \n",
       "1                   HUMBLE.   \n",
       "2       LOVE. FEAT. ZACARI.   \n",
       "3                       N95   \n",
       "4                    PRIDE.   \n",
       "\n",
       "                                          album.name album.release_date  \n",
       "0  Black Panther The Album Music From And Inspire...         2018-02-09  \n",
       "1                                              DAMN.         2017-04-14  \n",
       "2                                              DAMN.         2017-04-14  \n",
       "3                      Mr. Morale & The Big Steppers         2022-05-13  \n",
       "4                                              DAMN.         2017-04-14  "
      ]
     },
     "execution_count": 21,
     "metadata": {},
     "output_type": "execute_result"
    }
   ],
   "source": [
    "print('Kendrick Lamar\\'s top tracks')\n",
    "printTopTracks(kendrickData['tracks'])"
   ]
  },
  {
   "cell_type": "code",
   "execution_count": 22,
   "id": "34c91183-5401-421d-8d58-f7ef68b7d175",
   "metadata": {},
   "outputs": [
    {
     "name": "stdout",
     "output_type": "stream",
     "text": [
      "Frank Ocean's top tracks\n"
     ]
    },
    {
     "data": {
      "text/html": [
       "<div>\n",
       "<style scoped>\n",
       "    .dataframe tbody tr th:only-of-type {\n",
       "        vertical-align: middle;\n",
       "    }\n",
       "\n",
       "    .dataframe tbody tr th {\n",
       "        vertical-align: top;\n",
       "    }\n",
       "\n",
       "    .dataframe thead th {\n",
       "        text-align: right;\n",
       "    }\n",
       "</style>\n",
       "<table border=\"1\" class=\"dataframe\">\n",
       "  <thead>\n",
       "    <tr style=\"text-align: right;\">\n",
       "      <th></th>\n",
       "      <th>name</th>\n",
       "      <th>album.name</th>\n",
       "      <th>album.release_date</th>\n",
       "    </tr>\n",
       "  </thead>\n",
       "  <tbody>\n",
       "    <tr>\n",
       "      <th>0</th>\n",
       "      <td>Pink + White</td>\n",
       "      <td>Blonde</td>\n",
       "      <td>2016-08-20</td>\n",
       "    </tr>\n",
       "    <tr>\n",
       "      <th>1</th>\n",
       "      <td>Lost</td>\n",
       "      <td>channel ORANGE</td>\n",
       "      <td>2012-07-10</td>\n",
       "    </tr>\n",
       "    <tr>\n",
       "      <th>2</th>\n",
       "      <td>Novacane</td>\n",
       "      <td>Novacane</td>\n",
       "      <td>2011-01-01</td>\n",
       "    </tr>\n",
       "    <tr>\n",
       "      <th>3</th>\n",
       "      <td>Ivy</td>\n",
       "      <td>Blonde</td>\n",
       "      <td>2016-08-20</td>\n",
       "    </tr>\n",
       "    <tr>\n",
       "      <th>4</th>\n",
       "      <td>Nights</td>\n",
       "      <td>Blonde</td>\n",
       "      <td>2016-08-20</td>\n",
       "    </tr>\n",
       "  </tbody>\n",
       "</table>\n",
       "</div>"
      ],
      "text/plain": [
       "           name      album.name album.release_date\n",
       "0  Pink + White          Blonde         2016-08-20\n",
       "1          Lost  channel ORANGE         2012-07-10\n",
       "2      Novacane        Novacane         2011-01-01\n",
       "3           Ivy          Blonde         2016-08-20\n",
       "4        Nights          Blonde         2016-08-20"
      ]
     },
     "execution_count": 22,
     "metadata": {},
     "output_type": "execute_result"
    }
   ],
   "source": [
    "print('Frank Ocean\\'s top tracks')\n",
    "printTopTracks(frankData['tracks'])"
   ]
  },
  {
   "cell_type": "markdown",
   "id": "a2557392-8604-4d22-af72-0e6e9ba95f09",
   "metadata": {},
   "source": [
    "Query for information about the track\n",
    "\n",
    "`audio-features/*ID*`"
   ]
  },
  {
   "cell_type": "code",
   "execution_count": 23,
   "id": "7b306c7b-7e99-438a-95eb-6f71d84c27df",
   "metadata": {},
   "outputs": [],
   "source": [
    "shelter = porterData['tracks'][0]['id']\n",
    "humble = kendrickData['tracks'][1]['id']\n",
    "nights = frankData['tracks'][4]['id']"
   ]
  },
  {
   "cell_type": "code",
   "execution_count": 24,
   "id": "27934414-5d95-49b9-8208-129cb1a0d5e9",
   "metadata": {},
   "outputs": [],
   "source": [
    "shelterReq = requests.get(spotifyAPI + 'audio-features/' + shelter, headers=headers)\n",
    "humbleReq = requests.get(spotifyAPI + 'audio-features/' + humble, headers=headers)\n",
    "nightsReq = requests.get(spotifyAPI + 'audio-features/' + nights, headers=headers)"
   ]
  },
  {
   "cell_type": "code",
   "execution_count": 25,
   "id": "2977867c-a77f-4dce-9845-024c6da5cfd8",
   "metadata": {},
   "outputs": [],
   "source": [
    "shelterData = pd.json_normalize(shelterReq.json())\n",
    "humbleData = pd.json_normalize(humbleReq.json())\n",
    "nightsData = pd.json_normalize(nightsReq.json())"
   ]
  },
  {
   "cell_type": "code",
   "execution_count": 26,
   "id": "600a47a4-6f06-4a6e-94b0-aed2fc9b4dfd",
   "metadata": {},
   "outputs": [
    {
     "data": {
      "text/html": [
       "<div>\n",
       "<style scoped>\n",
       "    .dataframe tbody tr th:only-of-type {\n",
       "        vertical-align: middle;\n",
       "    }\n",
       "\n",
       "    .dataframe tbody tr th {\n",
       "        vertical-align: top;\n",
       "    }\n",
       "\n",
       "    .dataframe thead th {\n",
       "        text-align: right;\n",
       "    }\n",
       "</style>\n",
       "<table border=\"1\" class=\"dataframe\">\n",
       "  <thead>\n",
       "    <tr style=\"text-align: right;\">\n",
       "      <th></th>\n",
       "      <th>danceability</th>\n",
       "      <th>energy</th>\n",
       "      <th>key</th>\n",
       "      <th>loudness</th>\n",
       "      <th>mode</th>\n",
       "      <th>speechiness</th>\n",
       "      <th>acousticness</th>\n",
       "      <th>instrumentalness</th>\n",
       "      <th>liveness</th>\n",
       "      <th>valence</th>\n",
       "      <th>tempo</th>\n",
       "      <th>type</th>\n",
       "      <th>id</th>\n",
       "      <th>uri</th>\n",
       "      <th>track_href</th>\n",
       "      <th>analysis_url</th>\n",
       "      <th>duration_ms</th>\n",
       "      <th>time_signature</th>\n",
       "    </tr>\n",
       "  </thead>\n",
       "  <tbody>\n",
       "    <tr>\n",
       "      <th>0</th>\n",
       "      <td>0.55</td>\n",
       "      <td>0.648</td>\n",
       "      <td>7</td>\n",
       "      <td>-6.542</td>\n",
       "      <td>1</td>\n",
       "      <td>0.0309</td>\n",
       "      <td>0.0191</td>\n",
       "      <td>0</td>\n",
       "      <td>0.0999</td>\n",
       "      <td>0.323</td>\n",
       "      <td>156.957</td>\n",
       "      <td>audio_features</td>\n",
       "      <td>3WBRfkOozHEsG0hbrBzwlm</td>\n",
       "      <td>spotify:track:3WBRfkOozHEsG0hbrBzwlm</td>\n",
       "      <td>https://api.spotify.com/v1/tracks/3WBRfkOozHEs...</td>\n",
       "      <td>https://api.spotify.com/v1/audio-analysis/3WBR...</td>\n",
       "      <td>202821</td>\n",
       "      <td>4</td>\n",
       "    </tr>\n",
       "  </tbody>\n",
       "</table>\n",
       "</div>"
      ],
      "text/plain": [
       "   danceability  energy  key  loudness  mode  speechiness  acousticness  \\\n",
       "0          0.55   0.648    7    -6.542     1       0.0309        0.0191   \n",
       "\n",
       "   instrumentalness  liveness  valence    tempo            type  \\\n",
       "0                 0    0.0999    0.323  156.957  audio_features   \n",
       "\n",
       "                       id                                   uri  \\\n",
       "0  3WBRfkOozHEsG0hbrBzwlm  spotify:track:3WBRfkOozHEsG0hbrBzwlm   \n",
       "\n",
       "                                          track_href  \\\n",
       "0  https://api.spotify.com/v1/tracks/3WBRfkOozHEs...   \n",
       "\n",
       "                                        analysis_url  duration_ms  \\\n",
       "0  https://api.spotify.com/v1/audio-analysis/3WBR...       202821   \n",
       "\n",
       "   time_signature  \n",
       "0               4  "
      ]
     },
     "execution_count": 26,
     "metadata": {},
     "output_type": "execute_result"
    }
   ],
   "source": [
    "shelterData.head()"
   ]
  },
  {
   "cell_type": "code",
   "execution_count": 27,
   "id": "367fbf2d-2564-4f46-b437-34ef05f00a63",
   "metadata": {},
   "outputs": [
    {
     "data": {
      "text/html": [
       "<div>\n",
       "<style scoped>\n",
       "    .dataframe tbody tr th:only-of-type {\n",
       "        vertical-align: middle;\n",
       "    }\n",
       "\n",
       "    .dataframe tbody tr th {\n",
       "        vertical-align: top;\n",
       "    }\n",
       "\n",
       "    .dataframe thead th {\n",
       "        text-align: right;\n",
       "    }\n",
       "</style>\n",
       "<table border=\"1\" class=\"dataframe\">\n",
       "  <thead>\n",
       "    <tr style=\"text-align: right;\">\n",
       "      <th></th>\n",
       "      <th>danceability</th>\n",
       "      <th>energy</th>\n",
       "      <th>key</th>\n",
       "      <th>loudness</th>\n",
       "      <th>mode</th>\n",
       "      <th>speechiness</th>\n",
       "      <th>acousticness</th>\n",
       "      <th>instrumentalness</th>\n",
       "      <th>liveness</th>\n",
       "      <th>valence</th>\n",
       "      <th>tempo</th>\n",
       "      <th>type</th>\n",
       "      <th>id</th>\n",
       "      <th>uri</th>\n",
       "      <th>track_href</th>\n",
       "      <th>analysis_url</th>\n",
       "      <th>duration_ms</th>\n",
       "      <th>time_signature</th>\n",
       "    </tr>\n",
       "  </thead>\n",
       "  <tbody>\n",
       "    <tr>\n",
       "      <th>0</th>\n",
       "      <td>0.908</td>\n",
       "      <td>0.621</td>\n",
       "      <td>1</td>\n",
       "      <td>-6.638</td>\n",
       "      <td>0</td>\n",
       "      <td>0.102</td>\n",
       "      <td>0.000282</td>\n",
       "      <td>0.000054</td>\n",
       "      <td>0.0958</td>\n",
       "      <td>0.421</td>\n",
       "      <td>150.011</td>\n",
       "      <td>audio_features</td>\n",
       "      <td>7KXjTSCq5nL1LoYtL7XAwS</td>\n",
       "      <td>spotify:track:7KXjTSCq5nL1LoYtL7XAwS</td>\n",
       "      <td>https://api.spotify.com/v1/tracks/7KXjTSCq5nL1...</td>\n",
       "      <td>https://api.spotify.com/v1/audio-analysis/7KXj...</td>\n",
       "      <td>177000</td>\n",
       "      <td>4</td>\n",
       "    </tr>\n",
       "  </tbody>\n",
       "</table>\n",
       "</div>"
      ],
      "text/plain": [
       "   danceability  energy  key  loudness  mode  speechiness  acousticness  \\\n",
       "0         0.908   0.621    1    -6.638     0        0.102      0.000282   \n",
       "\n",
       "   instrumentalness  liveness  valence    tempo            type  \\\n",
       "0          0.000054    0.0958    0.421  150.011  audio_features   \n",
       "\n",
       "                       id                                   uri  \\\n",
       "0  7KXjTSCq5nL1LoYtL7XAwS  spotify:track:7KXjTSCq5nL1LoYtL7XAwS   \n",
       "\n",
       "                                          track_href  \\\n",
       "0  https://api.spotify.com/v1/tracks/7KXjTSCq5nL1...   \n",
       "\n",
       "                                        analysis_url  duration_ms  \\\n",
       "0  https://api.spotify.com/v1/audio-analysis/7KXj...       177000   \n",
       "\n",
       "   time_signature  \n",
       "0               4  "
      ]
     },
     "execution_count": 27,
     "metadata": {},
     "output_type": "execute_result"
    }
   ],
   "source": [
    "humbleData.head()"
   ]
  },
  {
   "cell_type": "code",
   "execution_count": 28,
   "id": "5ace5fff-cda5-4ca9-a463-1e9698ce70be",
   "metadata": {},
   "outputs": [
    {
     "data": {
      "text/html": [
       "<div>\n",
       "<style scoped>\n",
       "    .dataframe tbody tr th:only-of-type {\n",
       "        vertical-align: middle;\n",
       "    }\n",
       "\n",
       "    .dataframe tbody tr th {\n",
       "        vertical-align: top;\n",
       "    }\n",
       "\n",
       "    .dataframe thead th {\n",
       "        text-align: right;\n",
       "    }\n",
       "</style>\n",
       "<table border=\"1\" class=\"dataframe\">\n",
       "  <thead>\n",
       "    <tr style=\"text-align: right;\">\n",
       "      <th></th>\n",
       "      <th>danceability</th>\n",
       "      <th>energy</th>\n",
       "      <th>key</th>\n",
       "      <th>loudness</th>\n",
       "      <th>mode</th>\n",
       "      <th>speechiness</th>\n",
       "      <th>acousticness</th>\n",
       "      <th>instrumentalness</th>\n",
       "      <th>liveness</th>\n",
       "      <th>valence</th>\n",
       "      <th>tempo</th>\n",
       "      <th>type</th>\n",
       "      <th>id</th>\n",
       "      <th>uri</th>\n",
       "      <th>track_href</th>\n",
       "      <th>analysis_url</th>\n",
       "      <th>duration_ms</th>\n",
       "      <th>time_signature</th>\n",
       "    </tr>\n",
       "  </thead>\n",
       "  <tbody>\n",
       "    <tr>\n",
       "      <th>0</th>\n",
       "      <td>0.457</td>\n",
       "      <td>0.551</td>\n",
       "      <td>5</td>\n",
       "      <td>-9.36</td>\n",
       "      <td>0</td>\n",
       "      <td>0.167</td>\n",
       "      <td>0.427</td>\n",
       "      <td>0.000001</td>\n",
       "      <td>0.113</td>\n",
       "      <td>0.428</td>\n",
       "      <td>89.87</td>\n",
       "      <td>audio_features</td>\n",
       "      <td>7eqoqGkKwgOaWNNHx90uEZ</td>\n",
       "      <td>spotify:track:7eqoqGkKwgOaWNNHx90uEZ</td>\n",
       "      <td>https://api.spotify.com/v1/tracks/7eqoqGkKwgOa...</td>\n",
       "      <td>https://api.spotify.com/v1/audio-analysis/7eqo...</td>\n",
       "      <td>307151</td>\n",
       "      <td>4</td>\n",
       "    </tr>\n",
       "  </tbody>\n",
       "</table>\n",
       "</div>"
      ],
      "text/plain": [
       "   danceability  energy  key  loudness  mode  speechiness  acousticness  \\\n",
       "0         0.457   0.551    5     -9.36     0        0.167         0.427   \n",
       "\n",
       "   instrumentalness  liveness  valence  tempo            type  \\\n",
       "0          0.000001     0.113    0.428  89.87  audio_features   \n",
       "\n",
       "                       id                                   uri  \\\n",
       "0  7eqoqGkKwgOaWNNHx90uEZ  spotify:track:7eqoqGkKwgOaWNNHx90uEZ   \n",
       "\n",
       "                                          track_href  \\\n",
       "0  https://api.spotify.com/v1/tracks/7eqoqGkKwgOa...   \n",
       "\n",
       "                                        analysis_url  duration_ms  \\\n",
       "0  https://api.spotify.com/v1/audio-analysis/7eqo...       307151   \n",
       "\n",
       "   time_signature  \n",
       "0               4  "
      ]
     },
     "execution_count": 28,
     "metadata": {},
     "output_type": "execute_result"
    }
   ],
   "source": [
    "nightsData.head()"
   ]
  },
  {
   "cell_type": "markdown",
   "id": "9e08d6e9-12f4-41a0-a77f-7dabfad2a257",
   "metadata": {},
   "source": [
    "# Liveness?\n",
    "\n",
    "Detects the presence of an audience in the recording. Higher liveness values represent an increased probability that the track was performed live. A value above 0.8 provides strong likelihood that the track is live. - Spotify API Refrence\n",
    "# How accurate is it?\n",
    "\n",
    "To test this, I compared tracks from J. Cole, who released a studio and live version of their album 2014 Forest Hills Drive"
   ]
  },
  {
   "cell_type": "code",
   "execution_count": 29,
   "id": "f1d8caed-ff8f-43c6-991b-6429e6732ee1",
   "metadata": {},
   "outputs": [],
   "source": [
    "taleOf2CitiezLive = requests.get(spotifyAPI + 'audio-features/5EPp5oygWvFf08qCFBAZcV', headers=headers)\n",
    "gomdLive = requests.get(spotifyAPI + 'audio-features/1O02UzJKK7njDp3lQqLhUm', headers=headers)\n",
    "noRoleModelzLive = requests.get(spotifyAPI + 'audio-features/0SFZAQnxM6KBBNi8Y7YflZ', headers=headers)\n",
    "\n",
    "taleOf2Citiez = requests.get(spotifyAPI + 'audio-features/52A8OAP8lTQKZCj4Rce92B', headers=headers)\n",
    "gomd = requests.get(spotifyAPI + 'audio-features/0Thqjtu54vKMP06pwZkAWp', headers=headers)\n",
    "noRoleModelz = requests.get(spotifyAPI + 'audio-features/68Dni7IE4VyPkTOH9mRWHr', headers=headers)\n"
   ]
  },
  {
   "cell_type": "code",
   "execution_count": 30,
   "id": "400ecbe3-6498-4bcb-a5a5-fb34735f81de",
   "metadata": {},
   "outputs": [
    {
     "name": "stdout",
     "output_type": "stream",
     "text": [
      "Tale of 2 Citiez Liveness\n",
      "Live: 0.754 Studio: 0.294\n"
     ]
    }
   ],
   "source": [
    "taleLiveData = taleOf2CitiezLive.json()\n",
    "taleData = taleOf2Citiez.json()\n",
    "print('Tale of 2 Citiez Liveness')\n",
    "print('Live:', taleLiveData['liveness'], 'Studio:', taleData['liveness'])"
   ]
  },
  {
   "cell_type": "code",
   "execution_count": 31,
   "id": "5db7aa0a-d4df-4131-8d78-5823df3199b7",
   "metadata": {},
   "outputs": [
    {
     "name": "stdout",
     "output_type": "stream",
     "text": [
      "G.0.M.D Liveness\n",
      "Live: 0.893 Studio: 0.331\n"
     ]
    }
   ],
   "source": [
    "gomdLiveData = gomdLive.json()\n",
    "gomdData = gomd.json()\n",
    "print('G.0.M.D Liveness')\n",
    "print('Live:', gomdLiveData['liveness'], 'Studio:', gomdData['liveness'])"
   ]
  },
  {
   "cell_type": "code",
   "execution_count": 32,
   "id": "98f65636-5f6f-4f7f-9c37-f811bfa2106c",
   "metadata": {},
   "outputs": [
    {
     "name": "stdout",
     "output_type": "stream",
     "text": [
      "No Role Modelz Liveness\n",
      "Live: 0.77 Studio: 0.0534\n"
     ]
    }
   ],
   "source": [
    "noLiveData = noRoleModelzLive.json()\n",
    "noData = noRoleModelz.json()\n",
    "print('No Role Modelz Liveness')\n",
    "print('Live:', noLiveData['liveness'], 'Studio:', noData['liveness'])"
   ]
  }
 ],
 "metadata": {
  "kernelspec": {
   "display_name": "Python 3 (ipykernel)",
   "language": "python",
   "name": "python3"
  },
  "language_info": {
   "codemirror_mode": {
    "name": "ipython",
    "version": 3
   },
   "file_extension": ".py",
   "mimetype": "text/x-python",
   "name": "python",
   "nbconvert_exporter": "python",
   "pygments_lexer": "ipython3",
   "version": "3.10.8"
  }
 },
 "nbformat": 4,
 "nbformat_minor": 5
}
